{
 "cells": [
  {
   "cell_type": "code",
   "execution_count": 9,
   "metadata": {},
   "outputs": [],
   "source": [
    "import re\n",
    "import numpy as np\n",
    "import datetime\n",
    "\n",
    "node_file = './aldd_dag.dag.nodes.log'\n",
    "with open(node_file) as f:\n",
    "    content = f.readlines()\n",
    "content = [x.strip() for x in content] \n",
    "search_term = 'Normal termination'\n",
    "diskreqs = []\n",
    "ramreqs = []\n",
    "timing = []\n",
    "for i, x in enumerate(content):\n",
    "    if re.search('Job terminated', x):\n",
    "        lines = content[i:i+16]\n",
    "        for l in lines:\n",
    "            if 'Disk' in l:\n",
    "                diskreqs.append(int(l.split()[3]) / 1024 / 1024)\n",
    "            if 'Memory' in l:\n",
    "                ramreqs.append(int(l.split()[3]) / 1024)\n",
    "                \n",
    "            if 'Total Remote Usage' in l:\n",
    "                a = datetime.datetime.strptime(l.split()[2][:-1], '%H:%M:%S').time()\n",
    "                a = (a.hour*3600.0 + a.minute*60.0 + a.second)/60.0\n",
    "                timing.append(a)"
   ]
  },
  {
   "cell_type": "code",
   "execution_count": 10,
   "metadata": {},
   "outputs": [
    {
     "name": "stdout",
     "output_type": "stream",
     "text": [
      "Ram summary: \n",
      "Min: 0.0 GB\n",
      "Mean: 2.152365212912088 GB\n",
      "Max: 4.0 GB\n"
     ]
    }
   ],
   "source": [
    "print('Ram summary: ')\n",
    "print('Min: {} GB'.format(np.min(ramreqs)))\n",
    "print('Mean: {} GB'.format(np.mean(ramreqs)))\n",
    "print('Max: {} GB'.format(np.max(ramreqs)))"
   ]
  },
  {
   "cell_type": "code",
   "execution_count": 11,
   "metadata": {},
   "outputs": [
    {
     "name": "stdout",
     "output_type": "stream",
     "text": [
      "Disk summary: \n",
      "Min: 1.3460674285888672 GB\n",
      "Mean: 11.918682423266736 GB\n",
      "Max: 12.831113815307617 GB\n"
     ]
    }
   ],
   "source": [
    "print('Disk summary: ')\n",
    "print('Min: {} GB'.format(np.min(diskreqs)))\n",
    "print('Mean: {} GB'.format(np.mean(diskreqs)))\n",
    "print('Max: {} GB'.format(np.max(diskreqs)))"
   ]
  },
  {
   "cell_type": "code",
   "execution_count": 12,
   "metadata": {},
   "outputs": [
    {
     "name": "stdout",
     "output_type": "stream",
     "text": [
      "Timing summary: \n",
      "Min: 0.0 Minutes\n",
      "Mean: 375.287728937729 Minutes\n",
      "Max: 1439.25 Minutes\n"
     ]
    }
   ],
   "source": [
    "print('Timing summary: ')\n",
    "print('Min: {} Minutes'.format(np.min(timing)))\n",
    "print('Mean: {} Minutes'.format(np.mean(timing)))\n",
    "print('Max: {} Minutes'.format(np.max(timing)))"
   ]
  },
  {
   "cell_type": "code",
   "execution_count": null,
   "metadata": {},
   "outputs": [],
   "source": []
  }
 ],
 "metadata": {
  "kernelspec": {
   "display_name": "Python 3",
   "language": "python",
   "name": "python3"
  },
  "language_info": {
   "codemirror_mode": {
    "name": "ipython",
    "version": 3
   },
   "file_extension": ".py",
   "mimetype": "text/x-python",
   "name": "python",
   "nbconvert_exporter": "python",
   "pygments_lexer": "ipython3",
   "version": "3.6.8"
  }
 },
 "nbformat": 4,
 "nbformat_minor": 2
}
