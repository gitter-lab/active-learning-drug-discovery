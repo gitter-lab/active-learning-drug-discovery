{
 "cells": [
  {
   "cell_type": "code",
   "execution_count": 2,
   "metadata": {},
   "outputs": [],
   "source": [
    "import pandas as pd\n",
    "import numpy as np\n",
    "def setup_scmamp_rpy2():\n",
    "    import warnings\n",
    "    warnings.filterwarnings('ignore')\n",
    "    import rpy2\n",
    "    import rpy2.robjects as robjects\n",
    "    import rpy2.robjects.packages as rpackages\n",
    "    from rpy2.robjects.vectors import StrVector\n",
    "    from rpy2.robjects.packages import importr, data\n",
    "    from rpy2.robjects import r, pandas2ri\n",
    "    pandas2ri.activate();\n",
    "\n",
    "    rpy2.robjects.r['options'](warn=-1)\n",
    "    install_packages = False\n",
    "    utils = rpackages.importr('utils')\n",
    "    utils.chooseCRANmirror(ind=1)\n",
    "    #utils.install_packages('rlang');\n",
    "    if install_packages:\n",
    "        utils = rpackages.importr('utils')\n",
    "        utils.chooseCRANmirror(ind=1)\n",
    "        packnames = ('scmamp', 'BiocManager')\n",
    "\n",
    "        names_to_install = [x for x in packnames if not rpackages.isinstalled(x)]\n",
    "        if len(names_to_install) > 0:\n",
    "            utils.install_packages(StrVector(names_to_install))\n",
    "\n",
    "        biocmanager = rpackages.importr('BiocManager')\n",
    "        biocmanager.install('Rgraphviz')\n",
    "        biocmanager.install('graph')\n",
    "\n",
    "    scmamp = rpackages.importr('scmamp')\n",
    "\n",
    "\n",
    "\"\"\"\n",
    "def compute_scmamp_cem(data_df):\n",
    "    import rpy2.robjects.packages as rpackages\n",
    "    scmamp = rpackages.importr('scmamp')\n",
    "    cem_res = scmamp.contrastEstimationMatrix(data_df)\n",
    "    cem_df = pd.DataFrame(cem_res, columns=data_df.columns, index=data_df.columns)\n",
    "    return cem_df\n",
    "\"\"\"\n",
    "\n",
    "\"\"\"\n",
    "    Computes contrast estimation based on medians in 4 steps as described in:\n",
    "    Garcia et al. 2010 https://sci2s.ugr.es/sites/default/files/files/TematicWebSites/sicidm/2010-Garcia-INS.pdf\n",
    "    see pages 6-8\n",
    "\"\"\"\n",
    "def garcia_2010_cem(data_df):\n",
    "    # perform steps 1 and 2 of computing Zuv matrix\n",
    "    num_algorithms = data_df.columns.shape[0]\n",
    "    algorithm_names = data_df.columns.tolist()\n",
    "    Zuv_matrix = pd.DataFrame(data=np.zeros(shape=(num_algorithms, num_algorithms)),\n",
    "                              columns=algorithm_names,\n",
    "                              index=algorithm_names)\n",
    "    \n",
    "    for u_idx in range(num_algorithms):\n",
    "        for v_idx in range(u_idx+1, num_algorithms):\n",
    "            u = algorithm_names[u_idx]\n",
    "            v = algorithm_names[v_idx]\n",
    "            \n",
    "            tmp_df = data_df[[u, v]].copy()\n",
    "            tmp_df = tmp_df.dropna(axis=0)\n",
    "            u_arr = tmp_df[u].values \n",
    "            v_arr = tmp_df[v].values\n",
    "\n",
    "            # get difference vector of strategies u and v\n",
    "            perf_diff = u_arr - v_arr\n",
    "\n",
    "            # get median differences\n",
    "            median_diff = np.median(perf_diff)\n",
    "            \n",
    "            # save to Zuv matrix\n",
    "            Zuv_matrix.loc[u,v] = median_diff\n",
    "            Zuv_matrix.loc[v,u] = -median_diff\n",
    "            \n",
    "    # step 3 compute mean of median differens\n",
    "    mean_medians_diff = Zuv_matrix.mean(axis=1)\n",
    "\n",
    "    # step 4 compute difference of strategy u and v\n",
    "    cem_matrix = pd.DataFrame(data=np.zeros(shape=(num_algorithms, num_algorithms)),\n",
    "                              columns=algorithm_names,\n",
    "                              index=algorithm_names)\n",
    "    for u_idx in range(num_algorithms):\n",
    "        for v_idx in range(u_idx+1, num_algorithms):\n",
    "            u = algorithm_names[u_idx]\n",
    "            v = algorithm_names[v_idx]\n",
    "            u_val = mean_medians_diff.loc[u]\n",
    "            v_val = mean_medians_diff.loc[v]\n",
    "\n",
    "            # save to Zuv matrix\n",
    "            cem_matrix.loc[u,v] = u_val - v_val\n",
    "            cem_matrix.loc[v,u] = v_val - u_val\n",
    "            \n",
    "    return cem_matrix, Zuv_matrix, mean_medians_diff\n",
    "\n",
    "index = ['Adult','Breast','Bupa','Car','Cleveland','Contraceptive','Dermatology','Ecoli','German',\n",
    "         'Glass','Haberman','Iris','Lymphography','Mushrooms','Newthyroid','Penbased',\n",
    "         'Ring','Satimage','Shuttle','Spambase', 'Thyroid','Vehicle','Wine', 'Wisconsin']\n",
    "\n",
    "columns = ['PDFC (1)', 'NNEP (2)', 'IS-CHC + 1NN (3)', 'FH-GBML (4)']\n",
    "    \n",
    "data_df = [[0.752,0.773,0.785, 0.795],\n",
    "          [0.727,0.748,0.724,0.713],\n",
    "          [0.736,0.716,0.585,0.638],\n",
    "          [0.994, 0.861, 0.880, 0.791],\n",
    "          [ 0.508, 0.553, 0.575, 0.515],\n",
    "          [ 0.535, 0.536, 0.513, 0.471],\n",
    "          [0.967, 0.871 ,0.954 , 0.532],\n",
    "          [0.831, 0.807,0.819, 0.768],\n",
    "          [0.745, 0.702,0.719, 0.705],\n",
    "          [0.709, 0.572 , 0.669, 0.607],\n",
    "          [0.722, 0.728, 0.725, 0.732],\n",
    "          [ 0.967, 0.947 , 0.953, 0.960],\n",
    "          [0.832, 0.752 , 0.802, 0.691],\n",
    "          [0.998, 0.992 , 0.482, 0.910],\n",
    "          [0.963, 0.963, 0.954, 0.926],\n",
    "          [0.982, 0.953, 0.932, 0.630],\n",
    "          [0.978, 0.773, 0.834, 0.849],\n",
    "          [0.854, 0.787, 0.841, 0.779],\n",
    "          [0.965, 0.984, 0.995, 0.947],\n",
    "          [0.924, 0.887 ,0.861, 0.804],\n",
    "          [0.929, 0.942, 0.931, 0.921],\n",
    "          [0.837, 0.643,0.602, 0.554],\n",
    "          [0.972, 0.956, 0.944, 0.922],\n",
    "          [0.958, 0.959,0.964, 0.964]]\n",
    "\n",
    "data_df = pd.DataFrame(data=data_df,\n",
    "                       columns=columns,\n",
    "                       index=index)\n",
    "\n",
    "#setup_scmamp_rpy2()"
   ]
  },
  {
   "cell_type": "code",
   "execution_count": 5,
   "metadata": {},
   "outputs": [],
   "source": [
    "cem1, Zuv_matrix, mean_medians_diff = garcia_2010_cem(data_df)\n",
    "#cem2 = compute_scmamp_cem(data_df)"
   ]
  },
  {
   "cell_type": "code",
   "execution_count": 6,
   "metadata": {},
   "outputs": [
    {
     "data": {
      "text/html": [
       "<div>\n",
       "<style scoped>\n",
       "    .dataframe tbody tr th:only-of-type {\n",
       "        vertical-align: middle;\n",
       "    }\n",
       "\n",
       "    .dataframe tbody tr th {\n",
       "        vertical-align: top;\n",
       "    }\n",
       "\n",
       "    .dataframe thead th {\n",
       "        text-align: right;\n",
       "    }\n",
       "</style>\n",
       "<table border=\"1\" class=\"dataframe\">\n",
       "  <thead>\n",
       "    <tr style=\"text-align: right;\">\n",
       "      <th></th>\n",
       "      <th>PDFC (1)</th>\n",
       "      <th>NNEP (2)</th>\n",
       "      <th>IS-CHC + 1NN (3)</th>\n",
       "      <th>FH-GBML (4)</th>\n",
       "    </tr>\n",
       "  </thead>\n",
       "  <tbody>\n",
       "    <tr>\n",
       "      <th>PDFC (1)</th>\n",
       "      <td>0.00000</td>\n",
       "      <td>0.02250</td>\n",
       "      <td>0.01975</td>\n",
       "      <td>0.05925</td>\n",
       "    </tr>\n",
       "    <tr>\n",
       "      <th>NNEP (2)</th>\n",
       "      <td>-0.02250</td>\n",
       "      <td>0.00000</td>\n",
       "      <td>-0.00275</td>\n",
       "      <td>0.03675</td>\n",
       "    </tr>\n",
       "    <tr>\n",
       "      <th>IS-CHC + 1NN (3)</th>\n",
       "      <td>-0.01975</td>\n",
       "      <td>0.00275</td>\n",
       "      <td>0.00000</td>\n",
       "      <td>0.03950</td>\n",
       "    </tr>\n",
       "    <tr>\n",
       "      <th>FH-GBML (4)</th>\n",
       "      <td>-0.05925</td>\n",
       "      <td>-0.03675</td>\n",
       "      <td>-0.03950</td>\n",
       "      <td>0.00000</td>\n",
       "    </tr>\n",
       "  </tbody>\n",
       "</table>\n",
       "</div>"
      ],
      "text/plain": [
       "                  PDFC (1)  NNEP (2)  IS-CHC + 1NN (3)  FH-GBML (4)\n",
       "PDFC (1)           0.00000   0.02250           0.01975      0.05925\n",
       "NNEP (2)          -0.02250   0.00000          -0.00275      0.03675\n",
       "IS-CHC + 1NN (3)  -0.01975   0.00275           0.00000      0.03950\n",
       "FH-GBML (4)       -0.05925  -0.03675          -0.03950      0.00000"
      ]
     },
     "execution_count": 6,
     "metadata": {},
     "output_type": "execute_result"
    }
   ],
   "source": [
    "cem1"
   ]
  },
  {
   "cell_type": "code",
   "execution_count": 12,
   "metadata": {},
   "outputs": [
    {
     "data": {
      "text/html": [
       "<div>\n",
       "<style scoped>\n",
       "    .dataframe tbody tr th:only-of-type {\n",
       "        vertical-align: middle;\n",
       "    }\n",
       "\n",
       "    .dataframe tbody tr th {\n",
       "        vertical-align: top;\n",
       "    }\n",
       "\n",
       "    .dataframe thead th {\n",
       "        text-align: right;\n",
       "    }\n",
       "</style>\n",
       "<table border=\"1\" class=\"dataframe\">\n",
       "  <thead>\n",
       "    <tr style=\"text-align: right;\">\n",
       "      <th></th>\n",
       "      <th>PDFC</th>\n",
       "      <th>NNEP</th>\n",
       "      <th>IS-CHC + 1NN</th>\n",
       "      <th>FH-GBML</th>\n",
       "    </tr>\n",
       "  </thead>\n",
       "  <tbody>\n",
       "    <tr>\n",
       "      <th>PDFC</th>\n",
       "      <td>0.00000</td>\n",
       "      <td>0.02250</td>\n",
       "      <td>0.01975</td>\n",
       "      <td>0.05925</td>\n",
       "    </tr>\n",
       "    <tr>\n",
       "      <th>NNEP</th>\n",
       "      <td>-0.02250</td>\n",
       "      <td>0.00000</td>\n",
       "      <td>-0.00275</td>\n",
       "      <td>0.03675</td>\n",
       "    </tr>\n",
       "    <tr>\n",
       "      <th>IS-CHC + 1NN</th>\n",
       "      <td>-0.01975</td>\n",
       "      <td>0.00275</td>\n",
       "      <td>0.00000</td>\n",
       "      <td>0.03950</td>\n",
       "    </tr>\n",
       "    <tr>\n",
       "      <th>FH-GBML</th>\n",
       "      <td>-0.05925</td>\n",
       "      <td>-0.03675</td>\n",
       "      <td>-0.03950</td>\n",
       "      <td>0.00000</td>\n",
       "    </tr>\n",
       "  </tbody>\n",
       "</table>\n",
       "</div>"
      ],
      "text/plain": [
       "                 PDFC     NNEP  IS-CHC + 1NN  FH-GBML\n",
       "PDFC          0.00000  0.02250       0.01975  0.05925\n",
       "NNEP         -0.02250  0.00000      -0.00275  0.03675\n",
       "IS-CHC + 1NN -0.01975  0.00275       0.00000  0.03950\n",
       "FH-GBML      -0.05925 -0.03675      -0.03950  0.00000"
      ]
     },
     "execution_count": 12,
     "metadata": {},
     "output_type": "execute_result"
    }
   ],
   "source": [
    "cem2"
   ]
  },
  {
   "cell_type": "code",
   "execution_count": 13,
   "metadata": {},
   "outputs": [
    {
     "data": {
      "text/plain": [
       "True"
      ]
     },
     "execution_count": 13,
     "metadata": {},
     "output_type": "execute_result"
    }
   ],
   "source": [
    "np.array_equal(cem1, cem2)"
   ]
  },
  {
   "cell_type": "code",
   "execution_count": 7,
   "metadata": {},
   "outputs": [],
   "source": [
    "cem_matrix, Zuv_matrix, mean_medians_diff = garcia_2010_cem(data_df)"
   ]
  },
  {
   "cell_type": "code",
   "execution_count": 23,
   "metadata": {},
   "outputs": [
    {
     "name": "stdout",
     "output_type": "stream",
     "text": [
      "\\begin{tabular}{lrrrr}\n",
      "\\toprule\n",
      "{} &  PDFC (1) &  NNEP (2) &  IS-CHC + 1NN (3) &  FH-GBML (4) \\\\\n",
      "\\midrule\n",
      "PDFC (1)         &    0.0000 &    0.0200 &            0.0180 &       0.0635 \\\\\n",
      "NNEP (2)         &   -0.0200 &    0.0000 &           -0.0055 &       0.0370 \\\\\n",
      "IS-CHC + 1NN (3) &   -0.0180 &    0.0055 &            0.0000 &       0.0350 \\\\\n",
      "FH-GBML (4)      &   -0.0635 &   -0.0370 &           -0.0350 &       0.0000 \\\\\n",
      "\\bottomrule\n",
      "\\end{tabular}\n",
      "\n"
     ]
    }
   ],
   "source": [
    "print(Zuv_matrix.to_latex())"
   ]
  },
  {
   "cell_type": "code",
   "execution_count": 26,
   "metadata": {},
   "outputs": [
    {
     "name": "stdout",
     "output_type": "stream",
     "text": [
      "\\begin{tabular}{lr}\n",
      "\\toprule\n",
      "{} &         0 \\\\\n",
      "\\midrule\n",
      "PDFC (1)         &  0.025375 \\\\\n",
      "NNEP (2)         &  0.002875 \\\\\n",
      "IS-CHC + 1NN (3) &  0.005625 \\\\\n",
      "FH-GBML (4)      & -0.033875 \\\\\n",
      "\\bottomrule\n",
      "\\end{tabular}\n",
      "\n"
     ]
    }
   ],
   "source": [
    "print(mean_medians_diff.to_latex(index=True))"
   ]
  },
  {
   "cell_type": "code",
   "execution_count": 28,
   "metadata": {},
   "outputs": [
    {
     "name": "stdout",
     "output_type": "stream",
     "text": [
      "\\begin{tabular}{lrrrr}\n",
      "\\toprule\n",
      "{} &  PDFC (1) &  NNEP (2) &  IS-CHC + 1NN (3) &  FH-GBML (4) \\\\\n",
      "\\midrule\n",
      "PDFC (1)         &   0.00000 &   0.02250 &           0.01975 &      0.05925 \\\\\n",
      "NNEP (2)         &  -0.02250 &   0.00000 &          -0.00275 &      0.03675 \\\\\n",
      "IS-CHC + 1NN (3) &  -0.01975 &   0.00275 &           0.00000 &      0.03950 \\\\\n",
      "FH-GBML (4)      &  -0.05925 &  -0.03675 &          -0.03950 &      0.00000 \\\\\n",
      "\\bottomrule\n",
      "\\end{tabular}\n",
      "\n"
     ]
    }
   ],
   "source": [
    "print(cem_matrix.to_latex(index=True))"
   ]
  },
  {
   "cell_type": "code",
   "execution_count": 9,
   "metadata": {},
   "outputs": [
    {
     "data": {
      "image/png": "[encoded data removed]",
      "text/plain": [
       "<Figure size 1152x1152 with 2 Axes>"
      ]
     },
     "metadata": {},
     "output_type": "display_data"
    }
   ],
   "source": [
    "from matplotlib.collections import QuadMesh\n",
    "from matplotlib.text import Text\n",
    "    \n",
    "import seaborn as sns\n",
    "import matplotlib.pyplot as plt\n",
    "sns.set_context(\"paper\")\n",
    "sns.set(font_scale=3)\n",
    "\n",
    "\n",
    "\n",
    "heatmap_df = cem_matrix.copy()\n",
    "\n",
    "heatmap_df[' '] = 0\n",
    "heatmap_df['Total Wins'] = (cem_matrix > 0).sum(axis=1)\n",
    "heatmap_df = heatmap_df.sort_values('Total Wins', ascending=False)\n",
    "\n",
    "labels = []\n",
    "for x in heatmap_df['Total Wins'].values:\n",
    "    tmp = ['' for _ in range(heatmap_df.shape[0])] + ['', '{}'.format(x)]\n",
    "    labels.append(tmp)\n",
    "labels = np.array(labels)\n",
    "\n",
    "fig, ax = plt.subplots(1, 1, figsize=(16, 16))\n",
    "\n",
    "cmap = plt.get_cmap(\"RdYlGn\")\n",
    "sns.heatmap(heatmap_df, annot=labels, fmt='', linewidths=1, vmin=cem_matrix.values.min(), vmax=cem_matrix.values.max(),\n",
    "            linecolor='grey', cmap=cmap, square=True, cbar_kws={\"shrink\": .5})\n",
    "\n",
    "# find your QuadMesh object and get array of colors\n",
    "quadmesh = ax.findobj(QuadMesh)[0]\n",
    "facecolors = quadmesh.get_facecolors()\n",
    "\n",
    "# make colors of the last column white\n",
    "facecolors[np.arange(heatmap_df.shape[1]-1, heatmap_df.shape[0]*heatmap_df.shape[1], heatmap_df.shape[1])] = np.array([1,1,1,1])\n",
    "facecolors[np.arange(heatmap_df.shape[1]-2, heatmap_df.shape[0]*heatmap_df.shape[1], heatmap_df.shape[1])] = np.array([1,1,1,1])\n",
    "\n",
    "# set modified colors\n",
    "quadmesh.set_facecolors = facecolors\n",
    "\n",
    "# set color of all text to black\n",
    "for i in ax.findobj(Text):\n",
    "    i.set_color('black')\n",
    "\n",
    "plt.xticks(rotation=70, ha='right')\n",
    "plt.show()"
   ]
  },
  {
   "cell_type": "code",
   "execution_count": 65,
   "metadata": {},
   "outputs": [
    {
     "data": {
      "text/html": [
       "<div>\n",
       "<style scoped>\n",
       "    .dataframe tbody tr th:only-of-type {\n",
       "        vertical-align: middle;\n",
       "    }\n",
       "\n",
       "    .dataframe tbody tr th {\n",
       "        vertical-align: top;\n",
       "    }\n",
       "\n",
       "    .dataframe thead th {\n",
       "        text-align: right;\n",
       "    }\n",
       "</style>\n",
       "<table border=\"1\" class=\"dataframe\">\n",
       "  <thead>\n",
       "    <tr style=\"text-align: right;\">\n",
       "      <th></th>\n",
       "      <th>PDFC (1)</th>\n",
       "      <th>NNEP (2)</th>\n",
       "      <th>IS-CHC + 1NN (3)</th>\n",
       "      <th>FH-GBML (4)</th>\n",
       "    </tr>\n",
       "  </thead>\n",
       "  <tbody>\n",
       "    <tr>\n",
       "      <th>PDFC (1)</th>\n",
       "      <td>0.00000</td>\n",
       "      <td>0.02250</td>\n",
       "      <td>0.01975</td>\n",
       "      <td>0.05925</td>\n",
       "    </tr>\n",
       "    <tr>\n",
       "      <th>NNEP (2)</th>\n",
       "      <td>-0.02250</td>\n",
       "      <td>0.00000</td>\n",
       "      <td>-0.00275</td>\n",
       "      <td>0.03675</td>\n",
       "    </tr>\n",
       "    <tr>\n",
       "      <th>IS-CHC + 1NN (3)</th>\n",
       "      <td>-0.01975</td>\n",
       "      <td>0.00275</td>\n",
       "      <td>0.00000</td>\n",
       "      <td>0.03950</td>\n",
       "    </tr>\n",
       "    <tr>\n",
       "      <th>FH-GBML (4)</th>\n",
       "      <td>-0.05925</td>\n",
       "      <td>-0.03675</td>\n",
       "      <td>-0.03950</td>\n",
       "      <td>0.00000</td>\n",
       "    </tr>\n",
       "  </tbody>\n",
       "</table>\n",
       "</div>"
      ],
      "text/plain": [
       "                  PDFC (1)  NNEP (2)  IS-CHC + 1NN (3)  FH-GBML (4)\n",
       "PDFC (1)           0.00000   0.02250           0.01975      0.05925\n",
       "NNEP (2)          -0.02250   0.00000          -0.00275      0.03675\n",
       "IS-CHC + 1NN (3)  -0.01975   0.00275           0.00000      0.03950\n",
       "FH-GBML (4)       -0.05925  -0.03675          -0.03950      0.00000"
      ]
     },
     "execution_count": 65,
     "metadata": {},
     "output_type": "execute_result"
    }
   ],
   "source": [
    "cem_matrix"
   ]
  },
  {
   "cell_type": "code",
   "execution_count": 67,
   "metadata": {},
   "outputs": [
    {
     "data": {
      "text/plain": [
       "-0.05925"
      ]
     },
     "execution_count": 67,
     "metadata": {},
     "output_type": "execute_result"
    }
   ],
   "source": []
  },
  {
   "cell_type": "code",
   "execution_count": 68,
   "metadata": {},
   "outputs": [
    {
     "data": {
      "text/plain": [
       "0.05925"
      ]
     },
     "execution_count": 68,
     "metadata": {},
     "output_type": "execute_result"
    }
   ],
   "source": [
    "cem_matrix.values.max()"
   ]
  },
  {
   "cell_type": "code",
   "execution_count": null,
   "metadata": {},
   "outputs": [],
   "source": []
  }
 ],
 "metadata": {
  "kernelspec": {
   "display_name": "Python 3",
   "language": "python",
   "name": "python3"
  },
  "language_info": {
   "codemirror_mode": {
    "name": "ipython",
    "version": 3
   },
   "file_extension": ".py",
   "mimetype": "text/x-python",
   "name": "python",
   "nbconvert_exporter": "python",
   "pygments_lexer": "ipython3",
   "version": "3.6.8"
  }
 },
 "nbformat": 4,
 "nbformat_minor": 2
}
