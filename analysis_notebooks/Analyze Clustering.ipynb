{
 "cells": [
  {
   "cell_type": "code",
   "execution_count": 1,
   "metadata": {
    "collapsed": false,
    "deletable": true,
    "editable": true
   },
   "outputs": [
    {
     "name": "stderr",
     "output_type": "stream",
     "text": [
      "C:\\Users\\Moeman\\Anaconda3\\lib\\site-packages\\ipykernel\\__main__.py:34: DeprecationWarning: The binary mode of fromstring is deprecated, as it behaves surprisingly on unicode inputs. Use frombuffer instead\n"
     ]
    }
   ],
   "source": [
    "import pandas as pd\n",
    "import glob\n",
    "import numpy as np\n",
    "def tanimoto_dissimilarity(X, Y, X_batch_size=50, Y_batch_size=50):\n",
    "    n_features = X.shape[-1]\n",
    "    if X.ndim == 1:\n",
    "        X = X.reshape(-1, n_features)\n",
    "    if Y.ndim == 1:\n",
    "        Y = Y.reshape(-1, n_features)    \n",
    "    tan_sim = []\n",
    "    X_total_batches = X.shape[0] // X_batch_size + 1\n",
    "    Y_total_batches = Y.shape[0] // Y_batch_size + 1\n",
    "    for X_batch_i in range(X_total_batches):\n",
    "        X_start_idx = X_batch_i*X_batch_size\n",
    "        X_end_idx = min((X_batch_i+1)*X_batch_size, X.shape[0])\n",
    "        X_batch = X[X_start_idx:X_end_idx,:]\n",
    "        for Y_batch_i in range(Y_total_batches):\n",
    "            Y_start_idx = Y_batch_i*Y_batch_size\n",
    "            Y_end_idx = min((Y_batch_i+1)*Y_batch_size, Y.shape[0])\n",
    "            Y_batch = Y[Y_start_idx:Y_end_idx,:]\n",
    "            \n",
    "            # adapted from: https://github.com/deepchem/deepchem/blob/2531eca8564c1dc68910d791b0bcd91fd586afb9/deepchem/trans/transformers.py#L752\n",
    "            numerator = np.dot(X_batch, Y_batch.T).flatten() # equivalent to np.bitwise_and(X_batch, Y_batch), axis=1)\n",
    "            denominator = n_features - np.dot(1-X_batch, (1-Y_batch).T).flatten() # np.sum(np.bitwise_or(X_rep, Y_rep), axis=1)\n",
    "            \n",
    "            tan_sim.append(numerator / denominator)\n",
    "    tan_sim = np.hstack(tan_sim)\n",
    "    return 1.0 - tan_sim\n",
    "\n",
    "num_files = len(glob.glob('../datasets/lc_clusters_cv_96/unlabeled_*.csv'))\n",
    "csv_files_list = ['../datasets/lc_clusters_cv_96/unlabeled_{}.csv'.format(i) for i in range(num_files)]\n",
    "    \n",
    "df = pd.concat([pd.read_csv(f) for f in csv_files_list])\n",
    "X_train = np.vstack([np.fromstring(x, 'u1') - ord('0') for x in df['Morgan FP_2_1024']]).astype(float)"
   ]
  },
  {
   "cell_type": "code",
   "execution_count": 2,
   "metadata": {
    "collapsed": false,
    "deletable": true,
    "editable": true,
    "scrolled": true
   },
   "outputs": [
    {
     "name": "stderr",
     "output_type": "stream",
     "text": [
      "C:\\Users\\Moeman\\Anaconda3\\lib\\site-packages\\ipykernel\\__main__.py:1: DeprecationWarning: The binary mode of fromstring is deprecated, as it behaves surprisingly on unicode inputs. Use frombuffer instead\n",
      "  if __name__ == '__main__':\n"
     ]
    }
   ],
   "source": [
    "X_train = np.vstack([np.fromstring(x, 'u1') - ord('0') for x in df['Morgan FP_2_1024']]).astype(float)\n",
    "c2 = np.memmap('../datasets/clustering/cluster_assigment_vector_0.2.dat', \n",
    "                mode='r', dtype='int32', shape=(df.shape[0],))\n",
    "c3 = np.memmap('../datasets/clustering/cluster_assigment_vector_0.3.dat', \n",
    "                mode='r', dtype='int32', shape=(df.shape[0],))\n",
    "c4 = np.memmap('../datasets/clustering/cluster_assigment_vector_0.4.dat', \n",
    "                mode='r', dtype='int32', shape=(df.shape[0],))\n",
    "dissimilarity_matrix = np.memmap('../datasets/dissimilarity_matrix_94857_94857.dat', \n",
    "                                 shape=(94857,94857), mode='r', dtype='float16')\n",
    "\n",
    "c2_df = pd.DataFrame(data=np.vstack([c2, np.arange(c2.shape[0])]).T,\n",
    "                     columns=['Cluster_0.2', 'Index ID'])\n",
    "c3_df = pd.DataFrame(data=np.vstack([c3, np.arange(c3.shape[0])]).T,\n",
    "                     columns=['Cluster_0.3', 'Index ID'])\n",
    "c4_df = pd.DataFrame(data=np.vstack([c4, np.arange(c4.shape[0])]).T,\n",
    "                     columns=['Cluster_0.4', 'Index ID'])\n",
    "\n",
    "\n",
    "cl2 = np.memmap('../datasets/clustering/cluster_leader_idx_vector_0.2.dat', \n",
    "                mode='r', dtype='int32', shape=(df.shape[0],))\n",
    "cl3 = np.memmap('../datasets/clustering/cluster_leader_idx_vector_0.3.dat', \n",
    "                mode='r', dtype='int32', shape=(df.shape[0],))\n",
    "cl4 = np.memmap('../datasets/clustering/cluster_leader_idx_vector_0.4.dat', \n",
    "                mode='r', dtype='int32', shape=(df.shape[0],))\n",
    "\n",
    "cl2_df = pd.DataFrame(data=np.vstack([cl2, np.arange(cl2.shape[0])]).T,\n",
    "                     columns=['Cluster_0.2_leader_idx', 'Index ID'])\n",
    "cl3_df = pd.DataFrame(data=np.vstack([cl3, np.arange(cl3.shape[0])]).T,\n",
    "                     columns=['Cluster_0.3_leader_idx', 'Index ID'])\n",
    "cl4_df = pd.DataFrame(data=np.vstack([cl4, np.arange(cl4.shape[0])]).T,\n",
    "                     columns=['Cluster_0.4_leader_idx', 'Index ID'])"
   ]
  },
  {
   "cell_type": "code",
   "execution_count": 3,
   "metadata": {
    "collapsed": false,
    "deletable": true,
    "editable": true
   },
   "outputs": [],
   "source": [
    "u2, cc2 = np.unique(c2, return_counts=True)\n",
    "u3, cc3 = np.unique(c3, return_counts=True)\n",
    "u4, cc4 = np.unique(c4, return_counts=True)"
   ]
  },
  {
   "cell_type": "code",
   "execution_count": 4,
   "metadata": {
    "collapsed": false,
    "deletable": true,
    "editable": true
   },
   "outputs": [
    {
     "data": {
      "text/plain": [
       "((87178,), (64171,), (29044,), (82152,), (51996,), (15646,))"
      ]
     },
     "execution_count": 4,
     "metadata": {},
     "output_type": "execute_result"
    }
   ],
   "source": [
    "u2.shape, u3.shape, u4.shape, np.where(cc2==1)[0].shape, np.where(cc3==1)[0].shape, np.where(cc4==1)[0].shape"
   ]
  },
  {
   "cell_type": "code",
   "execution_count": 24,
   "metadata": {
    "collapsed": false,
    "deletable": true,
    "editable": true,
    "scrolled": true
   },
   "outputs": [
    {
     "name": "stdout",
     "output_type": "stream",
     "text": [
      "1211 0.4461538461538462\n",
      "1986 0.41333333333333333\n",
      "2040 0.5588235294117647\n",
      "3670 0.4444444444444444\n",
      "3690 0.5490196078431373\n",
      "4164 0.3770491803278688\n",
      "4323 0.32786885245901637\n",
      "5084 0.36923076923076925\n",
      "6256 0.44\n",
      "8047 0.3684210526315789\n",
      "9829 0.45454545454545453\n",
      "9932 0.37037037037037035\n",
      "10974 0.30612244897959184\n",
      "11560 0.3939393939393939\n",
      "11733 0.37735849056603776\n",
      "12239 0.3888888888888889\n",
      "12474 0.4642857142857143\n",
      "12947 0.39705882352941174\n",
      "13095 0.38461538461538464\n",
      "13456 0.3888888888888889\n",
      "14109 0.3898305084745763\n",
      "14283 0.32608695652173914\n",
      "14648 0.4927536231884058\n",
      "14810 0.37254901960784315\n",
      "15272 0.5072463768115942\n",
      "15841 0.3793103448275862\n",
      "15856 0.3382352941176471\n",
      "15860 0.3559322033898305\n",
      "19190 0.3548387096774194\n",
      "19353 0.391304347826087\n",
      "21071 0.4\n",
      "21538 0.3333333333333333\n",
      "22576 0.4230769230769231\n",
      "22818 0.4444444444444444\n",
      "24269 0.42857142857142855\n",
      "24692 0.3492063492063492\n",
      "25006 0.3333333333333333\n",
      "26082 0.35714285714285715\n",
      "26576 0.5686274509803921\n",
      "26765 0.47692307692307695\n",
      "28209 0.3611111111111111\n",
      "28512 0.40540540540540543\n",
      "30747 0.35384615384615387\n",
      "32068 0.32786885245901637\n",
      "32445 0.43548387096774194\n",
      "32618 0.3448275862068966\n",
      "34326 0.3584905660377358\n",
      "37342 0.515625\n",
      "37865 0.37254901960784315\n",
      "38545 0.40625\n",
      "41012 0.42857142857142855\n",
      "44902 0.52\n",
      "45780 0.3492063492063492\n",
      "46619 0.3442622950819672\n",
      "47034 0.34328358208955223\n",
      "48354 0.42424242424242425\n",
      "48591 0.5094339622641509\n",
      "50624 0.36\n",
      "51362 0.5862068965517241\n",
      "52646 0.34782608695652173\n",
      "53282 0.375\n",
      "53550 0.4489795918367347\n",
      "54280 0.3220338983050847\n",
      "55204 0.36363636363636365\n",
      "56184 0.3584905660377358\n",
      "56457 0.3148148148148148\n",
      "56786 0.36\n",
      "56895 0.45454545454545453\n",
      "57753 0.3148148148148148\n",
      "57826 0.3333333333333333\n",
      "57842 0.3157894736842105\n",
      "59627 0.3902439024390244\n",
      "62343 0.359375\n",
      "62557 0.3181818181818182\n",
      "64577 0.3220338983050847\n",
      "66701 0.3333333333333333\n",
      "70030 0.6111111111111112\n",
      "70597 0.3448275862068966\n",
      "70858 0.36\n",
      "71397 0.43902439024390244\n",
      "71844 0.3968253968253968\n",
      "74611 0.4423076923076923\n",
      "74796 0.3018867924528302\n",
      "76699 0.39215686274509803\n",
      "76987 0.36363636363636365\n",
      "82518 0.4444444444444444\n",
      "83028 0.44776119402985076\n",
      "83155 0.34285714285714286\n",
      "83807 0.43548387096774194\n",
      "83863 0.3620689655172414\n",
      "85539 0.4074074074074074\n",
      "86497 0.34\n",
      "88558 0.417910447761194\n",
      "88864 0.328125\n",
      "90270 0.42857142857142855\n",
      "90369 0.3050847457627119\n",
      "90876 0.42857142857142855\n",
      "92402 0.35555555555555557\n",
      "92595 0.35714285714285715\n",
      "93674 0.4642857142857143\n"
     ]
    }
   ],
   "source": [
    "import scipy.spatial.distance\n",
    "h_list = np.where(np.in1d(c3, u3[np.where(cc3 == 1)[0]]))[0][2100:2200]\n",
    "h_list = df.reset_index()[df.reset_index()['Index ID'].isin(h_list)].index.values\n",
    "cnidx = -1\n",
    "for h in h_list:\n",
    "    mint = 1000\n",
    "    for i in range(df.shape[0]):\n",
    "        if i != h:\n",
    "            curr_min = scipy.spatial.distance.jaccard(X_train[h], X_train[i])\n",
    "            if curr_min < mint:\n",
    "                mint = curr_min\n",
    "            \n",
    "    print(h, mint)\n",
    "    assert(mint >= 0.3)"
   ]
  },
  {
   "cell_type": "code",
   "execution_count": 5,
   "metadata": {
    "collapsed": false,
    "deletable": true,
    "editable": true,
    "scrolled": true
   },
   "outputs": [],
   "source": [
    "import pandas as pd\n",
    "import glob\n",
    "import numpy as np\n",
    "\n",
    "new_fmt = '../datasets/lc_clusters_cv_96_new/unlabeled_{}.csv'\n",
    "num_files = len(glob.glob('../datasets/lc_clusters_cv_96/unlabeled_*.csv'))\n",
    "csv_files_list = ['../datasets/lc_clusters_cv_96/unlabeled_{}.csv'.format(i) for i in range(num_files)]\n",
    "\n",
    "for i, f in enumerate(csv_files_list):\n",
    "    df = pd.read_csv(f)\n",
    "    merge_df = pd.merge(df.drop('Cluster_0.2', axis=1), c2_df, how='inner', on='Index ID')\n",
    "    assert np.array_equal(df['Index ID'].values, merge_df['Index ID'].values)\n",
    "    merge_df = pd.merge(merge_df.drop('Cluster_0.3', axis=1), c3_df, how='inner', on='Index ID')\n",
    "    assert np.array_equal(df['Index ID'].values, merge_df['Index ID'].values)\n",
    "    merge_df = pd.merge(merge_df.drop('Cluster_0.4', axis=1), c4_df, how='inner', on='Index ID')\n",
    "    assert np.array_equal(df['Index ID'].values, merge_df['Index ID'].values)\n",
    "    merge_df.to_csv(new_fmt.format(i), index=False)"
   ]
  },
  {
   "cell_type": "code",
   "execution_count": 13,
   "metadata": {
    "collapsed": true,
    "deletable": true,
    "editable": true
   },
   "outputs": [],
   "source": [
    "import pandas as pd\n",
    "import glob\n",
    "import numpy as np\n",
    "\n",
    "new_fmt = '../datasets/lc_clusters_cv_96_new/unlabeled_{}.csv'\n",
    "num_files = len(glob.glob('../datasets/lc_clusters_cv_96/unlabeled_*.csv'))\n",
    "csv_files_list = ['../datasets/lc_clusters_cv_96/unlabeled_{}.csv'.format(i) for i in range(num_files)]\n",
    "\n",
    "for i, f in enumerate(csv_files_list):\n",
    "    df = pd.read_csv(f)\n",
    "    merge_df = pd.merge(df, cl2_df, how='inner', on='Index ID')\n",
    "    assert np.array_equal(df['Index ID'].values, merge_df['Index ID'].values)\n",
    "    merge_df = pd.merge(merge_df, cl3_df, how='inner', on='Index ID')\n",
    "    assert np.array_equal(df['Index ID'].values, merge_df['Index ID'].values)\n",
    "    merge_df = pd.merge(merge_df, cl4_df, how='inner', on='Index ID')\n",
    "    assert np.array_equal(df['Index ID'].values, merge_df['Index ID'].values)\n",
    "    merge_df.to_csv(new_fmt.format(i), index=False)"
   ]
  },
  {
   "cell_type": "code",
   "execution_count": 14,
   "metadata": {
    "collapsed": false,
    "deletable": true,
    "editable": true
   },
   "outputs": [],
   "source": [
    "import pandas as pd\n",
    "import glob\n",
    "import numpy as np\n",
    "\n",
    "new_fmt = '../datasets/lc_clusters_cv_96_new/unlabeled_{}.csv'\n",
    "num_files = len(glob.glob(new_fmt.format('*')))\n",
    "csv_files_list = [new_fmt.format(i) for i in range(num_files)]\n",
    "\n",
    "df = pd.concat([pd.read_csv(f) for f in csv_files_list])"
   ]
  },
  {
   "cell_type": "code",
   "execution_count": 15,
   "metadata": {
    "collapsed": false,
    "deletable": true,
    "editable": true
   },
   "outputs": [],
   "source": [
    "df.to_csv('../datasets/all_data.csv.gz', compression='gzip', index=False)"
   ]
  },
  {
   "cell_type": "code",
   "execution_count": 20,
   "metadata": {
    "collapsed": false,
    "deletable": true,
    "editable": true
   },
   "outputs": [
    {
     "data": {
      "text/html": [
       "<div>\n",
       "<style scoped>\n",
       "    .dataframe tbody tr th:only-of-type {\n",
       "        vertical-align: middle;\n",
       "    }\n",
       "\n",
       "    .dataframe tbody tr th {\n",
       "        vertical-align: top;\n",
       "    }\n",
       "\n",
       "    .dataframe thead th {\n",
       "        text-align: right;\n",
       "    }\n",
       "</style>\n",
       "<table border=\"1\" class=\"dataframe\">\n",
       "  <thead>\n",
       "    <tr style=\"text-align: right;\">\n",
       "      <th></th>\n",
       "      <th>Index ID</th>\n",
       "      <th>Molecule</th>\n",
       "      <th>Murcko Scaffold ID</th>\n",
       "      <th>rdkit SMILES</th>\n",
       "      <th>Morgan FP_2_1024</th>\n",
       "      <th>PriA-SSB Activity</th>\n",
       "      <th>PriA-SSB % inhibition</th>\n",
       "      <th>rdkit_BT_Cluster_0.3</th>\n",
       "      <th>Cluster_0.2</th>\n",
       "      <th>Cluster_0.3</th>\n",
       "      <th>Cluster_0.4</th>\n",
       "      <th>Cluster_0.2_leader_idx</th>\n",
       "      <th>Cluster_0.3_leader_idx</th>\n",
       "      <th>Cluster_0.4_leader_idx</th>\n",
       "    </tr>\n",
       "  </thead>\n",
       "  <tbody>\n",
       "    <tr>\n",
       "      <th>63</th>\n",
       "      <td>79440</td>\n",
       "      <td>SMSSF-0600364</td>\n",
       "      <td>8575</td>\n",
       "      <td>CCOc1ccc(-c2cc(C(=O)N3CCC(Cc4ccccc4)CC3)no2)cc1</td>\n",
       "      <td>0000000000000000000000000000010001000000001000...</td>\n",
       "      <td>0</td>\n",
       "      <td>-7.278879</td>\n",
       "      <td>9866</td>\n",
       "      <td>3333</td>\n",
       "      <td>8084</td>\n",
       "      <td>8442</td>\n",
       "      <td>22331</td>\n",
       "      <td>22331</td>\n",
       "      <td>79440</td>\n",
       "    </tr>\n",
       "    <tr>\n",
       "      <th>5</th>\n",
       "      <td>22331</td>\n",
       "      <td>SMSSF-0054313</td>\n",
       "      <td>8575</td>\n",
       "      <td>COc1ccc(-c2cc(C(=O)N3CCC(Cc4ccccc4)CC3)no2)cc1</td>\n",
       "      <td>0000000000000000000000000000010001000000001000...</td>\n",
       "      <td>0</td>\n",
       "      <td>-10.664850</td>\n",
       "      <td>9866</td>\n",
       "      <td>3333</td>\n",
       "      <td>8084</td>\n",
       "      <td>8442</td>\n",
       "      <td>22331</td>\n",
       "      <td>22331</td>\n",
       "      <td>79440</td>\n",
       "    </tr>\n",
       "  </tbody>\n",
       "</table>\n",
       "</div>"
      ],
      "text/plain": [
       "    Index ID       Molecule  Murcko Scaffold ID  \\\n",
       "63     79440  SMSSF-0600364                8575   \n",
       "5      22331  SMSSF-0054313                8575   \n",
       "\n",
       "                                       rdkit SMILES  \\\n",
       "63  CCOc1ccc(-c2cc(C(=O)N3CCC(Cc4ccccc4)CC3)no2)cc1   \n",
       "5    COc1ccc(-c2cc(C(=O)N3CCC(Cc4ccccc4)CC3)no2)cc1   \n",
       "\n",
       "                                     Morgan FP_2_1024  PriA-SSB Activity  \\\n",
       "63  0000000000000000000000000000010001000000001000...                  0   \n",
       "5   0000000000000000000000000000010001000000001000...                  0   \n",
       "\n",
       "    PriA-SSB % inhibition  rdkit_BT_Cluster_0.3  Cluster_0.2  Cluster_0.3  \\\n",
       "63              -7.278879                  9866         3333         8084   \n",
       "5              -10.664850                  9866         3333         8084   \n",
       "\n",
       "    Cluster_0.4  Cluster_0.2_leader_idx  Cluster_0.3_leader_idx  \\\n",
       "63         8442                   22331                   22331   \n",
       "5          8442                   22331                   22331   \n",
       "\n",
       "    Cluster_0.4_leader_idx  \n",
       "63                   79440  \n",
       "5                    79440  "
      ]
     },
     "execution_count": 20,
     "metadata": {},
     "output_type": "execute_result"
    }
   ],
   "source": [
    "df[df['Cluster_0.2'] == 3333]"
   ]
  },
  {
   "cell_type": "code",
   "execution_count": null,
   "metadata": {
    "collapsed": true,
    "deletable": true,
    "editable": true
   },
   "outputs": [],
   "source": []
  }
 ],
 "metadata": {
  "kernelspec": {
   "display_name": "Python 3",
   "language": "python",
   "name": "python3"
  },
  "language_info": {
   "codemirror_mode": {
    "name": "ipython",
    "version": 3
   },
   "file_extension": ".py",
   "mimetype": "text/x-python",
   "name": "python",
   "nbconvert_exporter": "python",
   "pygments_lexer": "ipython3",
   "version": "3.5.1"
  }
 },
 "nbformat": 4,
 "nbformat_minor": 0
}
